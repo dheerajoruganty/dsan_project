{
 "cells": [
  {
   "cell_type": "code",
   "execution_count": 3,
   "metadata": {},
   "outputs": [
    {
     "data": {
      "text/plain": [
       "'boundary-line-convex-hull.geojson'"
      ]
     },
     "execution_count": 3,
     "metadata": {},
     "output_type": "execute_result"
    }
   ],
   "source": [
    "import pandas as pd\n",
    "import json\n",
    "from scipy.spatial import ConvexHull\n",
    "\n",
    "# Load the CSV file with latitude and longitude coordinates\n",
    "csv_path = 'latlong.csv'\n",
    "coordinates_df = pd.read_csv(csv_path)\n",
    "\n",
    "# Extract coordinates into a list of [longitude, latitude] pairs\n",
    "coordinates = coordinates_df[['long', 'lat']].values.tolist()\n",
    "\n",
    "# Calculate the convex hull\n",
    "hull = ConvexHull(coordinates)\n",
    "hull_points = [coordinates[vertex] for vertex in hull.vertices]\n",
    "\n",
    "# Ensure the hull is a closed polygon by adding the first point to the end\n",
    "hull_points.append(hull_points[0])\n",
    "\n",
    "# Create a new GeoJSON feature with a LineString\n",
    "geojson_structure = {\n",
    "    \"type\": \"Feature\",\n",
    "    \"properties\": {},\n",
    "    \"geometry\": {\n",
    "        \"type\": \"LineString\",\n",
    "        \"coordinates\": hull_points\n",
    "    }\n",
    "}\n",
    "\n",
    "# Save the new GeoJSON file with the specified structure\n",
    "output_path_convex_hull = 'boundary-line-convex-hull.geojson'\n",
    "with open(output_path_convex_hull, 'w') as f:\n",
    "    json.dump(geojson_structure, f)\n",
    "\n",
    "output_path_convex_hull\n"
   ]
  }
 ],
 "metadata": {
  "kernelspec": {
   "display_name": "dsan",
   "language": "python",
   "name": "python3"
  },
  "language_info": {
   "codemirror_mode": {
    "name": "ipython",
    "version": 3
   },
   "file_extension": ".py",
   "mimetype": "text/x-python",
   "name": "python",
   "nbconvert_exporter": "python",
   "pygments_lexer": "ipython3",
   "version": "3.9.19"
  }
 },
 "nbformat": 4,
 "nbformat_minor": 2
}
